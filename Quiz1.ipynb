{
 "cells": [
  {
   "cell_type": "code",
   "execution_count": 1,
   "id": "18da6ff5-0cbf-4494-b6db-48bdf26affb9",
   "metadata": {},
   "outputs": [
    {
     "name": "stdout",
     "output_type": "stream",
     "text": [
      "Isaac Huntington\n"
     ]
    }
   ],
   "source": [
    "print(\"Isaac Huntington\")"
   ]
  },
  {
   "cell_type": "code",
   "execution_count": 17,
   "id": "f3a9bf77-668d-44e9-89b1-0fb9fdb6e4a5",
   "metadata": {},
   "outputs": [
    {
     "name": "stdout",
     "output_type": "stream",
     "text": [
      "['cat1', 'cat1', 'cat1', 'cat2']\n"
     ]
    }
   ],
   "source": [
    "list_1=['cat1','cat1','cat1']\n",
    "list_1.append('cat2')\n",
    "print(list_1)"
   ]
  },
  {
   "cell_type": "code",
   "execution_count": 18,
   "id": "a0a74ca0-6c30-4c9d-bbb1-b464a501c03d",
   "metadata": {},
   "outputs": [
    {
     "name": "stdout",
     "output_type": "stream",
     "text": [
      "[]\n"
     ]
    }
   ],
   "source": [
    "list_2=['cat1','cat1','cat1']\n",
    "list_2.clear()\n",
    "print(list_2)"
   ]
  },
  {
   "cell_type": "code",
   "execution_count": 19,
   "id": "a9239289-d109-4b82-89b0-100fc3bd1190",
   "metadata": {},
   "outputs": [
    {
     "name": "stdout",
     "output_type": "stream",
     "text": [
      "['cat1', 'cat1', 'cat1']\n"
     ]
    }
   ],
   "source": [
    "list_3=['cat1','cat1','cat1']\n",
    "list_3.copy()\n",
    "print(list_3)"
   ]
  },
  {
   "cell_type": "code",
   "execution_count": 21,
   "id": "1892bc90-de76-4186-b175-faaea31ec651",
   "metadata": {},
   "outputs": [
    {
     "data": {
      "text/plain": [
       "2"
      ]
     },
     "execution_count": 21,
     "metadata": {},
     "output_type": "execute_result"
    }
   ],
   "source": [
    "list_4=['cat1','cat1','cat2']\n",
    "list_4.count('cat1')"
   ]
  },
  {
   "cell_type": "code",
   "execution_count": 32,
   "id": "a12d8175-a0c1-42fe-8aa0-cf0c6f4e62f1",
   "metadata": {},
   "outputs": [
    {
     "data": {
      "text/plain": [
       "2"
      ]
     },
     "execution_count": 32,
     "metadata": {},
     "output_type": "execute_result"
    }
   ],
   "source": [
    "list_5=['cat1','cat1','cat2']\n",
    "list_5.index('cat2')\n"
   ]
  },
  {
   "cell_type": "code",
   "execution_count": 24,
   "id": "307cd7dc-5b33-432e-8bf5-6280464303af",
   "metadata": {},
   "outputs": [
    {
     "name": "stdout",
     "output_type": "stream",
     "text": [
      "['cat1', 'cat2', 'cat1', 'cat2']\n"
     ]
    }
   ],
   "source": [
    "list_6=['cat1','cat1','cat2']\n",
    "list_6.insert(1, 'cat2')\n",
    "print(list_6)"
   ]
  },
  {
   "cell_type": "code",
   "execution_count": 30,
   "id": "0833d636-5e7b-44dc-83ec-01d02e2274c7",
   "metadata": {},
   "outputs": [
    {
     "name": "stdout",
     "output_type": "stream",
     "text": [
      "['cat1', 'cat1']\n"
     ]
    }
   ],
   "source": [
    "list_7=['cat1', 'cat1', 'cat2']\n",
    "list_7.pop(2)\n",
    "print(list_7)"
   ]
  },
  {
   "cell_type": "code",
   "execution_count": 27,
   "id": "2dc9618b-a409-4c9a-8a23-62dcccf6a63d",
   "metadata": {},
   "outputs": [
    {
     "name": "stdout",
     "output_type": "stream",
     "text": [
      "['cat1', 'cat1']\n"
     ]
    }
   ],
   "source": [
    "list_8=['cat1', 'cat1', 'cat2']\n",
    "list_8.remove('cat2')\n",
    "print(list_8)"
   ]
  },
  {
   "cell_type": "code",
   "execution_count": 29,
   "id": "99a56369-75ec-4144-b1e5-a3153ab7a838",
   "metadata": {},
   "outputs": [
    {
     "name": "stdout",
     "output_type": "stream",
     "text": [
      "['cat2', 'cat1', 'cat1']\n"
     ]
    }
   ],
   "source": [
    "list_9=['cat1', 'cat1', 'cat2']\n",
    "list_9.reverse()\n",
    "print(list_9)"
   ]
  },
  {
   "cell_type": "code",
   "execution_count": null,
   "id": "839027fd-22bd-4eaf-aa11-12df9f578a74",
   "metadata": {},
   "outputs": [],
   "source": []
  }
 ],
 "metadata": {
  "kernelspec": {
   "display_name": "Python 3 (ipykernel)",
   "language": "python",
   "name": "python3"
  },
  "language_info": {
   "codemirror_mode": {
    "name": "ipython",
    "version": 3
   },
   "file_extension": ".py",
   "mimetype": "text/x-python",
   "name": "python",
   "nbconvert_exporter": "python",
   "pygments_lexer": "ipython3",
   "version": "3.13.1"
  }
 },
 "nbformat": 4,
 "nbformat_minor": 5
}
